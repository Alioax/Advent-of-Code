{
 "cells": [
  {
   "cell_type": "code",
   "execution_count": 143,
   "metadata": {},
   "outputs": [],
   "source": [
    "import numpy as np\n",
    "import string\n",
    "\n",
    "inp = input('A Hourse with no name')"
   ]
  },
  {
   "cell_type": "code",
   "execution_count": 144,
   "metadata": {},
   "outputs": [],
   "source": [
    "crates_count = inp[[pos for pos, char in enumerate(inp) if char == ']'][-1]+3:inp.find('m')-3]\n",
    "crates_count = int(crates_count[-1])\n",
    "crates = inp[:[pos for pos, char in enumerate(inp) if char == ']'][-1]+1] + ' '\n",
    "rearrangement = inp[[pos for pos, char in enumerate(inp) if char == ']'][-1]+1:]"
   ]
  },
  {
   "cell_type": "code",
   "execution_count": 145,
   "metadata": {},
   "outputs": [],
   "source": [
    "crates_sliced = [crates[i:i+4] for i in range(0, len(crates), 4)]"
   ]
  },
  {
   "cell_type": "code",
   "execution_count": 146,
   "metadata": {},
   "outputs": [],
   "source": [
    "stacks = []\n",
    "for i in range(0, len(crates_sliced), crates_count):\n",
    "    lipstick = crates_sliced[i:i+crates_count]  # lipstick by kungs\n",
    "    stacks.append([i[1] for i in lipstick])\n",
    "stacks = np.array(stacks).transpose()"
   ]
  },
  {
   "cell_type": "code",
   "execution_count": 147,
   "metadata": {},
   "outputs": [],
   "source": [
    "linebreaks = np.array([pos for pos, char in enumerate(rearrangement) if char == 'v'])-2\n",
    "todos = []\n",
    "for index, item in enumerate(linebreaks):\n",
    "    if item != linebreaks[len(linebreaks)-1]:\n",
    "        todos.append(rearrangement[item:linebreaks[index+1]-1])\n",
    "    else:\n",
    "        todos.append(rearrangement[item:])"
   ]
  },
  {
   "cell_type": "code",
   "execution_count": 148,
   "metadata": {},
   "outputs": [],
   "source": [
    "def mate(origin, destination, stacks):\n",
    "    origin_i = origin - 1\n",
    "    destination_i = destination - 1\n",
    "\n",
    "    for index, item in enumerate(stacks[origin_i]):\n",
    "        if item != ' ':\n",
    "            move_item = item\n",
    "            stacks[origin_i][index] = ' '\n",
    "            break\n",
    "    if stacks[destination_i][0] != ' ':\n",
    "        temp = []\n",
    "        for i, row in enumerate(stacks):\n",
    "            temp.append(np.append(' ', row).tolist())\n",
    "        stacks = np.array(temp)\n",
    "    for index, item in enumerate(stacks[destination_i]):\n",
    "        if item != ' ':\n",
    "            stacks[destination_i][index-1] = move_item\n",
    "            break\n",
    "        else:\n",
    "            if index == int(len(stacks[destination_i]) - 1):\n",
    "                stacks[destination_i][index] = move_item\n",
    "    return stacks\n",
    "\n",
    "\n",
    "def move(count, origin, destination, stacks):\n",
    "    while count > 0:\n",
    "        stacks = mate(origin, destination, stacks)\n",
    "        count = count-1\n",
    "    return stacks\n"
   ]
  },
  {
   "cell_type": "code",
   "execution_count": 149,
   "metadata": {},
   "outputs": [],
   "source": [
    "for i in todos:\n",
    "    count = int(i.split(' ')[1])\n",
    "    origin = int(i.split(' ')[3])\n",
    "    destination = int(i.split(' ')[5])\n",
    "    stacks = move(count, origin, destination, stacks)"
   ]
  },
  {
   "cell_type": "code",
   "execution_count": 150,
   "metadata": {},
   "outputs": [
    {
     "data": {
      "text/plain": [
       "'PTWLTDSJV'"
      ]
     },
     "execution_count": 150,
     "metadata": {},
     "output_type": "execute_result"
    }
   ],
   "source": [
    "top = ''\n",
    "for row in stacks:\n",
    "    top = top + ([x for x in row if x != ' '][0])\n",
    "top"
   ]
  }
 ],
 "metadata": {
  "kernelspec": {
   "display_name": "Python 3.10.7 64-bit",
   "language": "python",
   "name": "python3"
  },
  "language_info": {
   "codemirror_mode": {
    "name": "ipython",
    "version": 3
   },
   "file_extension": ".py",
   "mimetype": "text/x-python",
   "name": "python",
   "nbconvert_exporter": "python",
   "pygments_lexer": "ipython3",
   "version": "3.10.7"
  },
  "orig_nbformat": 4,
  "vscode": {
   "interpreter": {
    "hash": "20d08df40c9c7f01d5cf65dc0c41ade21fc189c588d3ab3d4d5c2a6aa08ba3d4"
   }
  }
 },
 "nbformat": 4,
 "nbformat_minor": 2
}
